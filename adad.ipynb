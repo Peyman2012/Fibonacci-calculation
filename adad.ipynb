{
 "cells": [
  {
   "cell_type": "code",
   "execution_count": 1,
   "metadata": {},
   "outputs": [],
   "source": [
    "f1=1\n",
    "f2=1"
   ]
  },
  {
   "cell_type": "code",
   "execution_count": 2,
   "metadata": {},
   "outputs": [
    {
     "name": "stdout",
     "output_type": "stream",
     "text": [
      "Enter a number:8\n"
     ]
    }
   ],
   "source": [
    "n=int(input(\"Enter a number:\"))"
   ]
  },
  {
   "cell_type": "code",
   "execution_count": 3,
   "metadata": {},
   "outputs": [
    {
     "name": "stdout",
     "output_type": "stream",
     "text": [
      "1\n",
      "1\n",
      "2  \n",
      "3  \n",
      "5  \n",
      "8  \n",
      "13  \n",
      "21  \n"
     ]
    }
   ],
   "source": [
    "if n==1:\n",
    "    print(f1)\n",
    "elif n==2:\n",
    "    print(f1)\n",
    "    print(f2)\n",
    "else:\n",
    "    print(f1)\n",
    "    print(f2)\n",
    "    for i in range(n-2):\n",
    "        f3=f1+f2\n",
    "        print(f3,\" \")\n",
    "        f1=f2\n",
    "        f2=f3"
   ]
  }
 ],
 "metadata": {
  "kernelspec": {
   "display_name": "Python 3",
   "language": "python",
   "name": "python3"
  },
  "language_info": {
   "codemirror_mode": {
    "name": "ipython",
    "version": 3
   },
   "file_extension": ".py",
   "mimetype": "text/x-python",
   "name": "python",
   "nbconvert_exporter": "python",
   "pygments_lexer": "ipython3",
   "version": "3.6.13"
  }
 },
 "nbformat": 4,
 "nbformat_minor": 2
}
